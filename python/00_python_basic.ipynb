{
  "nbformat": 4,
  "nbformat_minor": 0,
  "metadata": {
    "kernelspec": {
      "display_name": "Python [conda env:worktools]",
      "language": "python",
      "name": "conda-env-worktools-py"
    },
    "language_info": {
      "codemirror_mode": {
        "name": "ipython",
        "version": 3
      },
      "file_extension": ".py",
      "mimetype": "text/x-python",
      "name": "python",
      "nbconvert_exporter": "python",
      "pygments_lexer": "ipython3",
      "version": "3.6.7"
    },
    "colab": {
      "name": "Copy of 00_python_basic.ipynb",
      "provenance": [],
      "include_colab_link": true
    }
  },
  "cells": [
    {
      "cell_type": "markdown",
      "metadata": {
        "id": "view-in-github",
        "colab_type": "text"
      },
      "source": [
        "<a href=\"https://colab.research.google.com/github/andreagrioni/Tutorials/blob/master/00_python_basic.ipynb\" target=\"_parent\"><img src=\"https://colab.research.google.com/assets/colab-badge.svg\" alt=\"Open In Colab\"/></a>"
      ]
    },
    {
      "cell_type": "markdown",
      "metadata": {
        "id": "EushZzobJau6",
        "colab_type": "text"
      },
      "source": [
        "# Python basic\n",
        "This notebook will give you a fast look into the Python programming language. Enjoy!"
      ]
    },
    {
      "cell_type": "markdown",
      "metadata": {
        "id": "6BhvAfc8Jau_",
        "colab_type": "text"
      },
      "source": [
        "## 1. First steps\n",
        "\n",
        "This is an interactive notebook. That means you are able to execute Python code directly in this file. To execute a 'cell' (these grey blocks with code), press `Ctrl`+`Enter` after selecting a cell, or hit `Run` above. To edit a 'cell', just press `Enter`; to exit the edit mode press `Esc`."
      ]
    },
    {
      "cell_type": "code",
      "metadata": {
        "id": "7chkPdQWJavB",
        "colab_type": "code",
        "outputId": "536022ed-41e3-44b9-d1af-e10210027103",
        "colab": {}
      },
      "source": [
        "print(\"Hello, world!\")"
      ],
      "execution_count": 0,
      "outputs": [
        {
          "output_type": "stream",
          "text": [
            "Hello, world!\n"
          ],
          "name": "stdout"
        }
      ]
    },
    {
      "cell_type": "markdown",
      "metadata": {
        "id": "L0Fq_jLbJavI",
        "colab_type": "text"
      },
      "source": [
        "This means Python tells the computer to `print` everything within quotes. This results in the quoted text being displayed just below the grey cell block, i.e. the text is 'printed' to the screen. Since this is an interactive notebook, let's get coding as soon as possible!"
      ]
    },
    {
      "cell_type": "markdown",
      "metadata": {
        "id": "gEJCFF8LJavJ",
        "colab_type": "text"
      },
      "source": [
        "### 1.1 Python errors\n",
        "\n",
        "Before we write our first lines of code it is important to know how to recognise when something goes wrong. Learning to code is irrevocably intertwined with recognising, fixing and handling errors. Luckily Python does a very good job at telling you what is wrong so you will know where to start looking. "
      ]
    },
    {
      "cell_type": "markdown",
      "metadata": {
        "id": "b27-wtHGJavL",
        "colab_type": "text"
      },
      "source": [
        "#### Exercise 1.1.1\n",
        "Try to run the code below."
      ]
    },
    {
      "cell_type": "code",
      "metadata": {
        "id": "aVb2Ee0lJavN",
        "colab_type": "code",
        "colab": {}
      },
      "source": [
        "print(\"This is Python\""
      ],
      "execution_count": 0,
      "outputs": []
    },
    {
      "cell_type": "markdown",
      "metadata": {
        "id": "XGZ6lVITJavT",
        "colab_type": "text"
      },
      "source": [
        "**Notice** that the notebook shows `SyntaxError: unexpected EOF while parsing` instead of printing the provided message. The reason for this error as we call it is that the code is missing a closing bracket. "
      ]
    },
    {
      "cell_type": "markdown",
      "metadata": {
        "id": "OqesmgMOJavU",
        "colab_type": "text"
      },
      "source": [
        "#### Exercise 1.1.2\n",
        "Add in the bracket in the copied code below to complete the statement and check if it runs."
      ]
    },
    {
      "cell_type": "code",
      "metadata": {
        "id": "_Jb1S5MYJavW",
        "colab_type": "code",
        "colab": {}
      },
      "source": [
        "print(\"This is Python\""
      ],
      "execution_count": 0,
      "outputs": []
    },
    {
      "cell_type": "markdown",
      "metadata": {
        "id": "I3PODGMMJava",
        "colab_type": "text"
      },
      "source": [
        "Not only a closing bracket can lead to errors and there are many reasons for Python throwing an error. Luckily Python always tells you _where_ the error is happening and _why_. If you run into problems during the execution of this notebook, do not hesitate to ask for help."
      ]
    },
    {
      "cell_type": "markdown",
      "metadata": {
        "id": "6vnxEe_dJavb",
        "colab_type": "text"
      },
      "source": [
        "### 1.2 About Python functions\n",
        "\n",
        "As you can see, Python does nothing more than providing the computer with a set of instructions on what and how to execute. In this case, `print` is a _function_ which applies some functionality to the sentence between the parentheses. \n",
        "\n",
        "Apart from `print` Python has over 60 built-in other functions, and there are more than _100,000_ python packages which add even more functionality by providing their own functions. To give an example, there is a Python package which allows you to load images, and a package that can do complex mathmatical operations. There are even packages that build complete neural networks in just a few lines of code!"
      ]
    },
    {
      "cell_type": "markdown",
      "metadata": {
        "id": "7_upoAb-Javd",
        "colab_type": "text"
      },
      "source": [
        "### 1.3 Python variables\n",
        "Apart from functions, Python has some important basic functionality. Before we told Python to directly print a sentence to the notebook, but we can also _assign variables_. This means that you can store stuff in hypothetical boxes which Python remembers for you. See it as a very large warehouse (your computer memory) with rows and rows of shelves where you can temporarily store things. When you place the number 20 (the item) in a box (b) Python puts it on a shelf to be used for later and makes sure it will not be forgotten.\n",
        "\n",
        "Take a look at the example below."
      ]
    },
    {
      "cell_type": "code",
      "metadata": {
        "id": "POhhHTQRJavf",
        "colab_type": "code",
        "colab": {}
      },
      "source": [
        "a = 10\n",
        "b = 20\n",
        "\n",
        "c = a + b\n",
        "\n",
        "print(c) "
      ],
      "execution_count": 0,
      "outputs": []
    },
    {
      "cell_type": "markdown",
      "metadata": {
        "id": "VYtnGbIqJavk",
        "colab_type": "text"
      },
      "source": [
        "**Notice** that we now print numbers instead of sentences, which shows that Python can handle a variety of _variable types_.  Important for now are:\n",
        "* Rounded numbers, such as `10`, `-5`, `422`. These are called `int`, short for 'integer'. \n",
        "* Decimal numbers, such as `2.1`, `3.14`, `-98748.0`. These are called `float`. \n",
        "* Words and sentences, displayed between (single or double, both are allowed) quotes, called `string`. We have already seen `'This is Python'` and `'Hello, world!'`, but can be anything as long at it is between quotes. Confusing but important to note: numbers can also be in a `string` and will be treated as such. `'16'` (notice the quotes) will be recognised by Python as a `string` and mathematical operations will not work. Try it out below."
      ]
    },
    {
      "cell_type": "code",
      "metadata": {
        "id": "vG_enwMaJavm",
        "colab_type": "code",
        "colab": {}
      },
      "source": [
        "'16' / 2"
      ],
      "execution_count": 0,
      "outputs": []
    },
    {
      "cell_type": "markdown",
      "metadata": {
        "id": "bSz0ItAQJavp",
        "colab_type": "text"
      },
      "source": [
        "### 1.5 First practice\n",
        "Below you will find a few exercises to practice with Python variables. \n",
        "\n",
        "#### Exercise 1.5.1 \n",
        "Complete the code below in such a way that the tortillas are divided equally and the error is fixed. Write your code after `portion =` and replace the dots.\n",
        "\n",
        "Hint: you can use Python as a calculator, including but not limited to `+`, `-`, `/` and `*`-signs."
      ]
    },
    {
      "cell_type": "code",
      "metadata": {
        "id": "_84h3l4CJavq",
        "colab_type": "code",
        "colab": {}
      },
      "source": [
        "people = 3\n",
        "tortillas = 15\n",
        "\n",
        "# fix here\n",
        "portion = ..\n",
        "\n",
        "print('Everyone can eat {} tortillas.'.format(portion))"
      ],
      "execution_count": 0,
      "outputs": []
    },
    {
      "cell_type": "markdown",
      "metadata": {
        "id": "QmjbsEmUJavx",
        "colab_type": "text"
      },
      "source": [
        "**Check** Is the code still correct if we change the number of people, or the number of tortillas? Never forget to test these cases or you might end up with a bug during production."
      ]
    },
    {
      "cell_type": "markdown",
      "metadata": {
        "id": "hXGCC7R8Javy",
        "colab_type": "text"
      },
      "source": [
        "#### Exercise 1.5.2 \n",
        "Complete the code below in such a way that it prints the correct amount. Write your code after `price_total` and replace the dots."
      ]
    },
    {
      "cell_type": "code",
      "metadata": {
        "id": "kM_NpiYvJavz",
        "colab_type": "code",
        "colab": {}
      },
      "source": [
        "apple_price = 0.43\n",
        "apples = 12\n",
        "\n",
        "# fix the statement below\n",
        "price_total = ..\n",
        "\n",
        "print('You owe {} $'.format(price_total))"
      ],
      "execution_count": 0,
      "outputs": []
    },
    {
      "cell_type": "markdown",
      "metadata": {
        "id": "j4ENAsn7Jav3",
        "colab_type": "text"
      },
      "source": [
        "#### Exercise 1.5.3 \n",
        "Now write a program that calculates the temperature in Celcius, given a temperature in Fahrenheit. \n",
        "\n",
        "The official formula for this conversion reads:  \n",
        "\n",
        "   (temperature in F − 32) × 5/9 = temperature in °C\n",
        "\n",
        "Replace the `0` with the correct formula in such a way that it can be tested by putting in different values for `fahrenheit`."
      ]
    },
    {
      "cell_type": "code",
      "metadata": {
        "id": "aliqJmGxJav4",
        "colab_type": "code",
        "colab": {}
      },
      "source": [
        "fahrenheit = 77\n",
        "\n",
        "# fix the statement below\n",
        "celcius = 0\n",
        "\n",
        "print('The weather forecast today reads {} degrees C'.format(celcius))"
      ],
      "execution_count": 0,
      "outputs": []
    },
    {
      "cell_type": "markdown",
      "metadata": {
        "id": "UnWKPhZmJav8",
        "colab_type": "text"
      },
      "source": [
        "## 2. Statements\n",
        "\n",
        "Variables allow for the storage of information, but do not incorporate any logic. For this Python has a few statements, called `if`-`else` statements. This is useful when you would like to excute a certain work order when something is the case, and another when something is not. "
      ]
    },
    {
      "cell_type": "markdown",
      "metadata": {
        "id": "7GTTsmCwJav9",
        "colab_type": "text"
      },
      "source": [
        "### 2.1 Boolean values\n",
        "\n",
        "In order to understand how statements work, we first have to dive a bit deeper into `boolean` values. Python essentially answers questions you ask. For example, you could ask the question _is this value in a list?_  or _is 3 smaller than 5?_. Python then tells you whether this is `True` or `False`. Execute the Python code equivalent of this below."
      ]
    },
    {
      "cell_type": "code",
      "metadata": {
        "id": "mneYpqRsJav-",
        "colab_type": "code",
        "colab": {}
      },
      "source": [
        "3 < 5"
      ],
      "execution_count": 0,
      "outputs": []
    },
    {
      "cell_type": "markdown",
      "metadata": {
        "id": "83Dpy12cJawD",
        "colab_type": "text"
      },
      "source": [
        "### 2.2 `if`-`else`\n",
        "\n",
        "Notice how in the example above Python answers the question, but there is no consequence. In pratice, you usually want something to happen when an answer is given. For example, we could write a program that outputs if you should wear a coat based on the outside temperature. Let us assume that this is preferable below 18 degrees Celcius and that we would like to print a message accordingly. \n",
        "\n",
        "```\n",
        "if(temperature < 18):\n",
        "    print('A coat is recommended.')\n",
        "else:\n",
        "    print('Enjoy the weather!')\n",
        "```\n",
        "\n",
        "Here we ask Python _is the temperature below 18 degrees?_ and tell it _if it is so, print the following message_. We also tell it _if it is not below 18 degrees_, i.e. `else`, _do this_.\n",
        "\n",
        "Let's take another example. On a company website, a signup field could check whether a birthdate is valid by providing an error message when a birthdate is not between 1900 and 2020. See below how that would look in Python code. Try out different birth years to see what it does."
      ]
    },
    {
      "cell_type": "code",
      "metadata": {
        "id": "6AHyqVP-JawE",
        "colab_type": "code",
        "colab": {}
      },
      "source": [
        "birthyear = 0\n",
        "if(1900 < birthyear < 2020):\n",
        "    print('Success')\n",
        "else:\n",
        "    print('Error. Incorrect birthyear.')"
      ],
      "execution_count": 0,
      "outputs": []
    },
    {
      "cell_type": "markdown",
      "metadata": {
        "id": "GwAcaHKOJawI",
        "colab_type": "text"
      },
      "source": [
        "### 2.3 Indentation\n",
        "\n",
        "**Notice** that both `print` statements are _indented_, meaning they have a leading extra tab compared to the code line above. The reason for this is that Python uses these tabs to infer what code goes where. For example in the code above, Python knows the 'success' `print` statement belongs to the `if` statement because it is preceded by a tab. Everything with that indentation, as long as it is not interrupted, falls under that `if` statement. \n",
        "\n",
        "The example below shows how this works in practice. Take note of how `if` and `else` operate on the same level of indentation, and therefore belong to different code blocks. Execute the code below to see what it does. "
      ]
    },
    {
      "cell_type": "code",
      "metadata": {
        "id": "L-gJOc5YJawJ",
        "colab_type": "code",
        "colab": {}
      },
      "source": [
        "number = 3\n",
        "if number < 5:\n",
        "    print('Hey,')\n",
        "    print('The number is smaller than 5')\n",
        "else: \n",
        "    print('Hi,')\n",
        "print('The number is larger than or equal to 5.')"
      ],
      "execution_count": 0,
      "outputs": []
    },
    {
      "cell_type": "markdown",
      "metadata": {
        "id": "hQTXZ7JrJawM",
        "colab_type": "text"
      },
      "source": [
        "#### Exercise 2.3.1 \n",
        "As you may notice the statement `The number is larger than or equal to 5.` is wrongly executed. Fix the code below (copied from above) in such a way that it prints the correct text when putting in numbers smaller than 5. Also try to test your code with numbers larger than 5; does it behave as expected?"
      ]
    },
    {
      "cell_type": "code",
      "metadata": {
        "id": "rEJOQ-sWJawN",
        "colab_type": "code",
        "colab": {}
      },
      "source": [
        "number = 3\n",
        "if number < 5:\n",
        "    print('Hey,')\n",
        "    print('The number {} is smaller than 5'.format(number))\n",
        "else: \n",
        "    print('Hi,')\n",
        "print('The number {} is larger than or equal to 5.'.format(number))"
      ],
      "execution_count": 0,
      "outputs": []
    }
  ]
}
